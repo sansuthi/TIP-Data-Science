{
 "cells": [
  {
   "cell_type": "markdown",
   "id": "d03a3558",
   "metadata": {},
   "source": [
    "---\n",
    "## _Task 2: IMPLEMENT NON-LINEAR REGRESSION(China GDP)_\n",
    "## _Author: SANDHYA S_\n",
    "### _Problem Statement:_\n",
    "#### * _Plot Graph between Year and GDP value for given dataset._\n",
    "#### * _This is a non-linear regression task as it involves just 2 variables._\n",
    "### _Dataset: https://bit.ly/2VbSEzN_\n",
    "---"
   ]
  },
  {
   "cell_type": "code",
   "execution_count": 1,
   "id": "dddcec5e",
   "metadata": {},
   "outputs": [],
   "source": [
    "# Importing Libraries\n",
    "import pandas as pd\n",
    "import numpy as np\n",
    "import matplotlib.pyplot as plt\n",
    "import warnings\n",
    "warnings.filterwarnings('ignore')"
   ]
  },
  {
   "cell_type": "code",
   "execution_count": 2,
   "id": "8b9381b8",
   "metadata": {},
   "outputs": [
    {
     "data": {
      "text/html": [
       "<div>\n",
       "<style scoped>\n",
       "    .dataframe tbody tr th:only-of-type {\n",
       "        vertical-align: middle;\n",
       "    }\n",
       "\n",
       "    .dataframe tbody tr th {\n",
       "        vertical-align: top;\n",
       "    }\n",
       "\n",
       "    .dataframe thead th {\n",
       "        text-align: right;\n",
       "    }\n",
       "</style>\n",
       "<table border=\"1\" class=\"dataframe\">\n",
       "  <thead>\n",
       "    <tr style=\"text-align: right;\">\n",
       "      <th></th>\n",
       "      <th>Year</th>\n",
       "      <th>Value</th>\n",
       "    </tr>\n",
       "  </thead>\n",
       "  <tbody>\n",
       "    <tr>\n",
       "      <th>0</th>\n",
       "      <td>1960</td>\n",
       "      <td>5.918412e+10</td>\n",
       "    </tr>\n",
       "    <tr>\n",
       "      <th>1</th>\n",
       "      <td>1961</td>\n",
       "      <td>4.955705e+10</td>\n",
       "    </tr>\n",
       "    <tr>\n",
       "      <th>2</th>\n",
       "      <td>1962</td>\n",
       "      <td>4.668518e+10</td>\n",
       "    </tr>\n",
       "    <tr>\n",
       "      <th>3</th>\n",
       "      <td>1963</td>\n",
       "      <td>5.009730e+10</td>\n",
       "    </tr>\n",
       "    <tr>\n",
       "      <th>4</th>\n",
       "      <td>1964</td>\n",
       "      <td>5.906225e+10</td>\n",
       "    </tr>\n",
       "    <tr>\n",
       "      <th>5</th>\n",
       "      <td>1965</td>\n",
       "      <td>6.970915e+10</td>\n",
       "    </tr>\n",
       "    <tr>\n",
       "      <th>6</th>\n",
       "      <td>1966</td>\n",
       "      <td>7.587943e+10</td>\n",
       "    </tr>\n",
       "    <tr>\n",
       "      <th>7</th>\n",
       "      <td>1967</td>\n",
       "      <td>7.205703e+10</td>\n",
       "    </tr>\n",
       "    <tr>\n",
       "      <th>8</th>\n",
       "      <td>1968</td>\n",
       "      <td>6.999350e+10</td>\n",
       "    </tr>\n",
       "    <tr>\n",
       "      <th>9</th>\n",
       "      <td>1969</td>\n",
       "      <td>7.871882e+10</td>\n",
       "    </tr>\n",
       "  </tbody>\n",
       "</table>\n",
       "</div>"
      ],
      "text/plain": [
       "   Year         Value\n",
       "0  1960  5.918412e+10\n",
       "1  1961  4.955705e+10\n",
       "2  1962  4.668518e+10\n",
       "3  1963  5.009730e+10\n",
       "4  1964  5.906225e+10\n",
       "5  1965  6.970915e+10\n",
       "6  1966  7.587943e+10\n",
       "7  1967  7.205703e+10\n",
       "8  1968  6.999350e+10\n",
       "9  1969  7.871882e+10"
      ]
     },
     "execution_count": 2,
     "metadata": {},
     "output_type": "execute_result"
    }
   ],
   "source": [
    "# Loading data\n",
    "data = pd.read_csv('china_gdp.csv')\n",
    "data.head(10)"
   ]
  },
  {
   "cell_type": "code",
   "execution_count": 3,
   "id": "ff496f93",
   "metadata": {},
   "outputs": [
    {
     "name": "stdout",
     "output_type": "stream",
     "text": [
      "<class 'pandas.core.frame.DataFrame'>\n",
      "RangeIndex: 55 entries, 0 to 54\n",
      "Data columns (total 2 columns):\n",
      " #   Column  Non-Null Count  Dtype  \n",
      "---  ------  --------------  -----  \n",
      " 0   Year    55 non-null     int64  \n",
      " 1   Value   55 non-null     float64\n",
      "dtypes: float64(1), int64(1)\n",
      "memory usage: 1008.0 bytes\n"
     ]
    }
   ],
   "source": [
    "# Dataset information\n",
    "data.info()"
   ]
  },
  {
   "cell_type": "code",
   "execution_count": 4,
   "id": "7eed84f6",
   "metadata": {},
   "outputs": [
    {
     "data": {
      "text/html": [
       "<div>\n",
       "<style scoped>\n",
       "    .dataframe tbody tr th:only-of-type {\n",
       "        vertical-align: middle;\n",
       "    }\n",
       "\n",
       "    .dataframe tbody tr th {\n",
       "        vertical-align: top;\n",
       "    }\n",
       "\n",
       "    .dataframe thead th {\n",
       "        text-align: right;\n",
       "    }\n",
       "</style>\n",
       "<table border=\"1\" class=\"dataframe\">\n",
       "  <thead>\n",
       "    <tr style=\"text-align: right;\">\n",
       "      <th></th>\n",
       "      <th>Year</th>\n",
       "      <th>Value</th>\n",
       "    </tr>\n",
       "  </thead>\n",
       "  <tbody>\n",
       "    <tr>\n",
       "      <th>count</th>\n",
       "      <td>55.00000</td>\n",
       "      <td>5.500000e+01</td>\n",
       "    </tr>\n",
       "    <tr>\n",
       "      <th>mean</th>\n",
       "      <td>1987.00000</td>\n",
       "      <td>1.437042e+12</td>\n",
       "    </tr>\n",
       "    <tr>\n",
       "      <th>std</th>\n",
       "      <td>16.02082</td>\n",
       "      <td>2.500085e+12</td>\n",
       "    </tr>\n",
       "    <tr>\n",
       "      <th>min</th>\n",
       "      <td>1960.00000</td>\n",
       "      <td>4.668518e+10</td>\n",
       "    </tr>\n",
       "    <tr>\n",
       "      <th>25%</th>\n",
       "      <td>1973.50000</td>\n",
       "      <td>1.395123e+11</td>\n",
       "    </tr>\n",
       "    <tr>\n",
       "      <th>50%</th>\n",
       "      <td>1987.00000</td>\n",
       "      <td>3.074796e+11</td>\n",
       "    </tr>\n",
       "    <tr>\n",
       "      <th>75%</th>\n",
       "      <td>2000.50000</td>\n",
       "      <td>1.268748e+12</td>\n",
       "    </tr>\n",
       "    <tr>\n",
       "      <th>max</th>\n",
       "      <td>2014.00000</td>\n",
       "      <td>1.035483e+13</td>\n",
       "    </tr>\n",
       "  </tbody>\n",
       "</table>\n",
       "</div>"
      ],
      "text/plain": [
       "             Year         Value\n",
       "count    55.00000  5.500000e+01\n",
       "mean   1987.00000  1.437042e+12\n",
       "std      16.02082  2.500085e+12\n",
       "min    1960.00000  4.668518e+10\n",
       "25%    1973.50000  1.395123e+11\n",
       "50%    1987.00000  3.074796e+11\n",
       "75%    2000.50000  1.268748e+12\n",
       "max    2014.00000  1.035483e+13"
      ]
     },
     "execution_count": 4,
     "metadata": {},
     "output_type": "execute_result"
    }
   ],
   "source": [
    "# Data description\n",
    "data.describe()"
   ]
  },
  {
   "cell_type": "code",
   "execution_count": 5,
   "id": "b5704854",
   "metadata": {},
   "outputs": [
    {
     "data": {
      "image/png": "[encoded data removed]",
      "text/plain": [
       "<Figure size 720x360 with 1 Axes>"
      ]
     },
     "metadata": {
      "needs_background": "light"
     },
     "output_type": "display_data"
    }
   ],
   "source": [
    "# Plotting the dataset\n",
    "plt.figure(figsize=(10, 5))\n",
    "plt.xlabel('YEAR', fontsize=13)\n",
    "plt.ylabel('GDP', fontsize=13)\n",
    "plt.plot(data.Year, data.Value, 'ro')\n",
    "plt.show()"
   ]
  },
  {
   "cell_type": "markdown",
   "id": "6be79a72",
   "metadata": {},
   "source": [
    "# _Logistic Regression_"
   ]
  },
  {
   "cell_type": "code",
   "execution_count": 6,
   "id": "c9464fc2",
   "metadata": {},
   "outputs": [],
   "source": [
    "X = np.arange(-5.0, 5.0, 0.1)\n",
    "Y = 1.0 / (1.0 + np.exp(-X))"
   ]
  },
  {
   "cell_type": "code",
   "execution_count": 7,
   "id": "38c9e897",
   "metadata": {},
   "outputs": [
    {
     "data": {
      "image/png": "[encoded data removed]",
      "text/plain": [
       "<Figure size 720x360 with 1 Axes>"
      ]
     },
     "metadata": {
      "needs_background": "light"
     },
     "output_type": "display_data"
    }
   ],
   "source": [
    "plt.figure(figsize=(10, 5)) \n",
    "plt.xlabel('Independent Variable (X)', fontsize=13)\n",
    "plt.ylabel('Dependent Variable (Y)', fontsize=13)\n",
    "plt.plot(X, Y)\n",
    "plt.show()"
   ]
  },
  {
   "cell_type": "markdown",
   "id": "3f680b63",
   "metadata": {},
   "source": [
    "## * _Building the Model_"
   ]
  },
  {
   "cell_type": "code",
   "execution_count": 8,
   "id": "07f999ce",
   "metadata": {},
   "outputs": [],
   "source": [
    "def sigmoid(x, Beta1, Beta2):\n",
    "    y = 1 / (1 + np.exp(-Beta1*(x-Beta2)))\n",
    "    return y"
   ]
  },
  {
   "cell_type": "code",
   "execution_count": 9,
   "id": "76310ee0",
   "metadata": {},
   "outputs": [],
   "source": [
    "beta1 = 0.10\n",
    "beta2 = 1990.0"
   ]
  },
  {
   "cell_type": "code",
   "execution_count": 10,
   "id": "0de93db4",
   "metadata": {},
   "outputs": [],
   "source": [
    "# logistic function\n",
    "y_pred = sigmoid(data.Year, beta1, beta2)"
   ]
  },
  {
   "cell_type": "code",
   "execution_count": 11,
   "id": "c63ce594",
   "metadata": {},
   "outputs": [
    {
     "data": {
      "image/png": "[encoded data removed]",
      "text/plain": [
       "<Figure size 720x360 with 1 Axes>"
      ]
     },
     "metadata": {
      "needs_background": "light"
     },
     "output_type": "display_data"
    }
   ],
   "source": [
    "# plotting the initial prediction against datapoints\n",
    "plt.figure(figsize=(10, 5)) \n",
    "plt.plot(data.Year, y_pred*15000000000000.)\n",
    "plt.xlabel('YEAR', fontsize=13)\n",
    "plt.ylabel('GDP', fontsize=13)\n",
    "plt.plot(data.Year, data.Value, 'ro')\n",
    "plt.show()"
   ]
  },
  {
   "cell_type": "markdown",
   "id": "fefad238",
   "metadata": {},
   "source": [
    "## * _Best parameters for the fit line_"
   ]
  },
  {
   "cell_type": "code",
   "execution_count": 12,
   "id": "102588e8",
   "metadata": {},
   "outputs": [],
   "source": [
    "# Normalizing data\n",
    "x_data = data.Year / max(data.Year)\n",
    "y_data = data.Value / max(data.Value)"
   ]
  },
  {
   "cell_type": "code",
   "execution_count": 13,
   "id": "4e05a1a9",
   "metadata": {},
   "outputs": [],
   "source": [
    "from scipy.optimize import curve_fit\n",
    "popt, pcov = curve_fit(sigmoid, x_data, y_data)"
   ]
  },
  {
   "cell_type": "code",
   "execution_count": 14,
   "id": "528a6052",
   "metadata": {},
   "outputs": [
    {
     "name": "stdout",
     "output_type": "stream",
     "text": [
      "Beta 1:690.4517111155185, Beta 2:0.9972071272529599\n"
     ]
    }
   ],
   "source": [
    "# Final parameters\n",
    "print(f'Beta 1:{popt[0]}, Beta 2:{popt[1]}')"
   ]
  },
  {
   "cell_type": "code",
   "execution_count": 15,
   "id": "22cd08e3",
   "metadata": {},
   "outputs": [],
   "source": [
    "x = np.linspace(1960, 2015, 55)\n",
    "x = x / max(x)\n",
    "y = sigmoid(x, *popt)"
   ]
  },
  {
   "cell_type": "code",
   "execution_count": 16,
   "id": "9ca40827",
   "metadata": {},
   "outputs": [
    {
     "data": {
      "image/png": "[encoded data removed]",
      "text/plain": [
       "<Figure size 720x360 with 1 Axes>"
      ]
     },
     "metadata": {
      "needs_background": "light"
     },
     "output_type": "display_data"
    }
   ],
   "source": [
    "# Plotting Logistic Regression Line\n",
    "plt.figure(figsize=(10, 5)) \n",
    "plt.plot(x_data, y_data, 'ro', label='Data')\n",
    "plt.plot(x, y, label='Fit Line')\n",
    "plt.legend(loc='best')\n",
    "plt.xlabel('YEAR', fontsize=13)\n",
    "plt.ylabel('GDP', fontsize=13)\n",
    "plt.show()"
   ]
  },
  {
   "cell_type": "markdown",
   "id": "a4d1f34a",
   "metadata": {},
   "source": [
    "## * _Making Prediction_"
   ]
  },
  {
   "cell_type": "code",
   "execution_count": 17,
   "id": "2e220f7d",
   "metadata": {},
   "outputs": [],
   "source": [
    "# Importing Libraries\n",
    "from sklearn.model_selection import train_test_split\n",
    "from sklearn.metrics import mean_absolute_error\n",
    "from sklearn.metrics import r2_score"
   ]
  },
  {
   "cell_type": "code",
   "execution_count": 18,
   "id": "6e58d926",
   "metadata": {},
   "outputs": [],
   "source": [
    "# Splitting data into training and testing set\n",
    "train_x, test_x, train_y, test_y = train_test_split(x_data, y_data, test_size=0.2)"
   ]
  },
  {
   "cell_type": "code",
   "execution_count": 19,
   "id": "b01394ae",
   "metadata": {},
   "outputs": [
    {
     "name": "stdout",
     "output_type": "stream",
     "text": [
      "train_x: (44,), train_y: (44,)\n",
      "test_x: (11,), test_y: (11,)\n"
     ]
    }
   ],
   "source": [
    "print(f'train_x: {train_x.shape}, train_y: {train_y.shape}')\n",
    "print(f'test_x: {test_x.shape}, test_y: {test_y.shape}')"
   ]
  },
  {
   "cell_type": "code",
   "execution_count": 20,
   "id": "ade7ba97",
   "metadata": {},
   "outputs": [],
   "source": [
    "# Building the model and making prediction\n",
    "popt, pcov = curve_fit(sigmoid, train_x, train_y)\n",
    "pred = sigmoid(test_x, *popt)"
   ]
  },
  {
   "cell_type": "markdown",
   "id": "cd3c88c8",
   "metadata": {},
   "source": [
    "## * _Model Evaluation_"
   ]
  },
  {
   "cell_type": "code",
   "execution_count": 21,
   "id": "cb6f1e9e",
   "metadata": {},
   "outputs": [
    {
     "name": "stdout",
     "output_type": "stream",
     "text": [
      "Mean Absolute Error: 0.02214363909556352\n",
      "R2-score: 0.9795382252242205\n"
     ]
    }
   ],
   "source": [
    "print(f'Mean Absolute Error: {mean_absolute_error(pred, test_y)}')\n",
    "print(f'R2-score: {r2_score(pred, test_y)}')"
   ]
  },
  {
   "cell_type": "markdown",
   "id": "f5e0d223",
   "metadata": {},
   "source": [
    "---\n",
    "## _Thank You!_"
   ]
  }
 ],
 "metadata": {
  "kernelspec": {
   "display_name": "Python 3 (ipykernel)",
   "language": "python",
   "name": "python3"
  },
  "language_info": {
   "codemirror_mode": {
    "name": "ipython",
    "version": 3
   },
   "file_extension": ".py",
   "mimetype": "text/x-python",
   "name": "python",
   "nbconvert_exporter": "python",
   "pygments_lexer": "ipython3",
   "version": "3.9.1"
  }
 },
 "nbformat": 4,
 "nbformat_minor": 5
}
